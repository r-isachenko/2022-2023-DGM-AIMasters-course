{
 "cells": [
  {
   "cell_type": "markdown",
   "metadata": {
    "id": "YyxYA9wRwjgh"
   },
   "source": [
    "# Homework3: Normalizing flows"
   ]
  },
  {
   "cell_type": "markdown",
   "metadata": {},
   "source": [
    "## Task 1: Theory (5pt)"
   ]
  },
  {
   "cell_type": "markdown",
   "metadata": {
    "id": "nHF8HOV6wzPy",
    "tags": []
   },
   "source": [
    "### Problem 1: Sylvester flow (2.5pt)\n",
    "\n",
    "At the Seminar 6, we have studied planar flows of the form:\n",
    "$$\n",
    "    \\mathbf{x} = g(\\mathbf{z}, \\boldsymbol{\\theta}) = \\mathbf{z} + \\mathbf{u} h(\\mathbf{w}^T\\mathbf{z} + b),\n",
    "$$\n",
    "where $\\mathbf{u} \\in \\mathbb{R}^m$,  $\\mathbf{w} \\in \\mathbb{R}^m$, $b \\in \\mathbb{R}$.\n",
    "\n",
    "There is a natural generalization of planar flows of the form:\n",
    "$$\n",
    "   \\mathbf{x} = g(\\mathbf{z}, \\boldsymbol{\\theta}) = \\mathbf{z} + \\mathbf{V} h(\\mathbf{W}^T\\mathbf{z} + \\mathbf{b}),\n",
    "$$\n",
    "where $\\boldsymbol{\\theta} = \\{\\mathbf{V}, \\mathbf{W}, \\mathbf{b}\\}$, $\\mathbf{V} \\in \\mathbb{R}^{m \\times k}$,  $\\mathbf{W} \\in \\mathbb{R}^{m \\times k}$, $\\mathbf{b} \\in \\mathbb{R}^k$, $h : \\mathbb{R}^k \\rightarrow \\mathbb{R}$ is nonlinear function, which applied pointwise to the elements of the vector $\\mathbf{W}^T\\mathbf{z} + \\mathbf{b}$. This flow is called [Sylvester flow](https://arxiv.org/abs/1803.05649).\n",
    "1) Prove a simplified version of the matrix-determinant lemma:\n",
    "$$\n",
    "    \\det (\\mathbf{I}_m + \\mathbf{V} \\mathbf{W}^T) = \\det (\\mathbf{I}_k + \\mathbf{W}^T \\mathbf{V}).\n",
    "$$\n",
    "2) Calculate the determinant of the Jacobi matrix for the Sylvester flow  and apply the lemma proved in the previous paragraph to it.\n",
    "3) In order to reduce the complexity for the determinant calculation (and ensure the invertibility of the transform $g(\\mathbf{z}, \\boldsymbol{\\theta})$), the authors proposed to parametrize the matrices $\\mathbf{V}$ and $\\mathbf{W}$ as follows:\n",
    "$$\n",
    "    \\mathbf{V} = \\mathbf{Q} \\mathbf{U}; \\quad \\mathbf{W} = \\mathbf{Q} \\mathbf{L},\n",
    "$$\n",
    "where $\\mathbf{Q} \\in \\mathbb{R}^{m \\times k}$ — orthogonal matrix ($\\mathbf{Q}^T \\mathbf{Q} = \\mathbf{I}$), $\\mathbf{U} \\in \\mathbb{R}^{k \\times k}$ — upper triangular matrix, $\\mathbf{L} \\in \\mathbb{R}^{k \\times k}$ — lower triangular matrix ([wiki](https://en.wikipedia.org/wiki/Triangular_matrix)). Write out an expression for the Jacobian determinant using this parametrization.\n",
    "4) Calculate and compare the complexity for calculating the determinant of the Jacobi matrix \n",
    "   * before applying the lemma; \n",
    "   * after applying the lemma;\n",
    "   * after applying the $\\mathbf{Q} \\mathbf{U}$, $\\mathbf{Q} \\mathbf{L}$ parametrization.\n",
    "\n",
    "5) Which conditions should be imposed on the matrices $\\mathbf{U}$ , $\\mathbf{L}$ and nonlinearity $h$ in order to guarantee the invertibility of the transform $g$. \n",
    "\n",
    "   **Hint**: What conditions guarantee non-degeneracy of the determinant of the jacobian $\\det \\mathbf{J}_g$? Recall the planar flows case ($k = 1$) that was considered at Seminar 6."
   ]
  },
  {
   "cell_type": "markdown",
   "metadata": {},
   "source": [
    "```your solution```"
   ]
  },
  {
   "cell_type": "markdown",
   "metadata": {},
   "source": [
    "### Problem 2: Expressivity of normalizing flows (2.5pt)\n",
    "\n",
    "Let $\\pi(\\mathbf{x})$ is an absolutely continuous probability distribution supported everywhere on $\\mathbb{R}^m$ (i.e. $\\pi(\\mathbf{x}) > 0$ for all $\\mathbf{x} \\in \\mathbb{R}^m$). Additionally we suppose, that the pdf $\\pi(\\mathbf{x})$ is continuously differentiable on  $\\mathbb{R}^m$.  Our ultimate goal is to show, that there exists diffeomorphism (invertible continuously differentiable map): \n",
    "$$ \n",
    "    \\mathbf{u} = F(\\mathbf{x}) \\quad F : \\mathbb{R}^m \\rightarrow \\mathbb{U}.\n",
    "$$\n",
    "Here $\\mathbb{U} = [0, 1]^m$ is a hypercube, which turns $\\pi(\\mathbf{x})$ into uniform distribution $p(\\mathbf{u}) = U[0, 1]^m$ on the hypercube $\\mathbb{U}$ ($p(\\mathbf{u}) = 1 \\,,\\, \\mathbf{u} \\in \\mathbb{U}$). Here we have to think about openness and closeness of $\\mathbb{U}$ for formal math correctness, but we omit it in this task. <sub><sup><i>Math correctness comment</i>: Strictly speaking, the diffeomorphism $F$ maps $\\mathbb{R}^m$ to the open cube $\\text{int}\\left(\\mathbb{U}\\right) = (0, 1)^m$, sinse the reverse mapping $F^{-1} : \\text{int}\\left(\\mathbb{U}\\right) \\rightarrow \\mathbb{R}^m$ is continuous $\\Rightarrow$ the preimage of the open set $\\mathbb{R}^m$ with respect to $F^{-1}$ should be <b>open</b>: $(F^{-1})^{-1}(\\mathbb{R}^m) = F(\\mathbb{R}^m) = \\text{an open set}$</sup></sub>\n",
    "\n",
    "If such function exists, it means that **there exists normalizing flow model from base uniform distribution to any(!) target distribution.**\n",
    "\n",
    "---------\n",
    "\n",
    "1. Consider the autoregressive decomposition of $\\pi(\\mathbf{x})$:\n",
    "\n",
    "    $$\\pi(\\mathbf{x}) = \\prod\\limits_{j = 1}^{m} \\pi(x_j|\\mathbf{x}_{1:j - 1}).$$\n",
    "\n",
    "2. Treat each component $\\pi(x_j|\\mathbf{x}_{1:j - 1})$ in the decomposition above separately. Consider the transformations:\n",
    "\n",
    "    $$\\mathbf{x} \\rightarrow u_j = F_j(x_j, \\mathbf{x}_{1:j - 1}) = \\int\\limits_{- \\infty}^{x_j} \\pi(x_j'|\\mathbf{x}_{1:j - 1}) d x_j'.$$\n",
    "\n",
    "   Here $F_j(x_j, \\mathbf{x}_{1:j - 1})$ is the cumulative distribution function of $j$-th conditional $x_j$ (given $\\mathbf{x}_{1:j - 1}$) Note, that $u_j \\in [0, 1]$.\n",
    "\n",
    "3. Define the transform $F : \\mathbb{R}^m \\rightarrow \\mathbb{U}$ as follows:\n",
    "\n",
    "    $$\\mathbf{x} \\rightarrow \\mathbf{u} = \\begin{bmatrix} F_1(x_1) \\\\ F_2(x_2,x_1) \\\\ \\dots \\\\ F_m(x_m, \\mathbf{x}_{1:m-1})\\end{bmatrix}.$$\n",
    "    \n",
    "    Given the properties of $\\pi$ ($\\pi(\\mathbf{x}) > 0$ and continuously differentiable) it is easy to show, that $F$ is continuously differentiable. We omit the details since they are just boring mathematical calculations.\n",
    "\n",
    "    **Subproblem 2.1 (0.5pt):** Prove, that the function $F : \\mathbb{R}^m \\rightarrow \\mathbb{U}$ is invertible. <sub><sup><i>Math correctness comment</i>: Strictly speaking, $F : \\mathbb{R}^m \\rightarrow \\text{int}\\left(\\mathbb{U}\\right)$ is invertible</sup></sub>\n",
    "\n",
    "    **Subproblem 2.2 (1pt):** Prove, that $\\det \\mathbf{J}_F (\\mathbf{x}) = \\pi(x)$.\n",
    "\n",
    "    **Subproblem 2.3 (1pt):** Prove, that $\\mathbf{u}$ is a uniformly distributed ($p(\\mathbf{u}) = U[0,1]^m)$.\n",
    "    \n",
    "    **Subproblem 2.4\\* (extra 1pt):** Let $\\pi(\\mathbf{x})$ and $\\mu(\\mathbf{y})$ are absolutely continuous probability distributions supported everywhere on $\\mathbb{R}^m$, whose pdfs are continuously differentiable. Prove that there exists a diffeomorphism $G : \\mathbb{R}^m \\rightarrow \\mathbb{R}^m$ which turns $\\pi$ into $\\mu$, i.e.:\n",
    "\n",
    "    $$\\mathbf{y} = G(\\mathbf{x}), \\quad \\text{where } \\mathbf{x} \\sim \\pi(\\mathbf{x}), \\, \\mathbf{y} \\sim \\mu(\\mathbf{y}).$$"
   ]
  },
  {
   "cell_type": "markdown",
   "metadata": {
    "id": "d-GAM_JpruKC"
   },
   "source": [
    "```your solution```"
   ]
  },
  {
   "cell_type": "code",
   "execution_count": null,
   "metadata": {
    "colab": {
     "base_uri": "https://localhost:8080/"
    },
    "id": "fbEJ5_hlxT5G",
    "outputId": "c64cf131-d45e-45f9-cdbc-243b8bfdbf41"
   },
   "outputs": [],
   "source": [
    "REPO_NAME = \"2022-2023-DGM-AIMasters-course\"\n",
    "!if [ -d {REPO_NAME} ]; then rm -Rf {REPO_NAME}; fi\n",
    "!git clone https://github.com/r-isachenko/{REPO_NAME}.git\n",
    "!cd {REPO_NAME}\n",
    "!pip install ./{REPO_NAME}/homeworks/\n",
    "!rm -Rf {REPO_NAME}"
   ]
  },
  {
   "cell_type": "code",
   "execution_count": null,
   "metadata": {
    "id": "0cBwQPJexYc2"
   },
   "outputs": [],
   "source": [
    "from dgm_utils import train_model, plot_training_curves\n",
    "from dgm_utils import visualize_2d_data, visualize_2d_samples, visualize_2d_densities\n",
    "from dgm_utils import show_samples, visualize_images, load_pickle"
   ]
  },
  {
   "cell_type": "code",
   "execution_count": null,
   "metadata": {
    "id": "16jlqZcZx6bj"
   },
   "outputs": [],
   "source": [
    "import os\n",
    "import numpy as np\n",
    "import matplotlib.pyplot as plt\n",
    "\n",
    "from sklearn.datasets import make_moons\n",
    "\n",
    "import torch\n",
    "import torch.nn as nn\n",
    "import torch.nn.functional as F\n",
    "import torch.utils.data as data\n",
    "\n",
    "USE_CUDA = torch.cuda.is_available()"
   ]
  },
  {
   "cell_type": "code",
   "execution_count": null,
   "metadata": {
    "colab": {
     "base_uri": "https://localhost:8080/"
    },
    "id": "tZeXG1w4x7aG",
    "outputId": "ccd337f4-2e0e-4b62-b615-8f54a0ed99a9"
   },
   "outputs": [],
   "source": [
    "from google.colab import drive\n",
    "drive.mount('/content/drive')"
   ]
  },
  {
   "cell_type": "markdown",
   "metadata": {
    "id": "tqoNm0OqyBiy"
   },
   "source": [
    "## Task 2: RealNVP on 2d data (3pt)\n",
    "\n",
    "In this task you will implement [RealNVP](https://arxiv.org/abs/1605.08803) model on 2d moons dataset.\n",
    "\n",
    "\n",
    "The following function generates the data (do not change it)."
   ]
  },
  {
   "cell_type": "code",
   "execution_count": null,
   "metadata": {
    "id": "XvRAjePZyHgC"
   },
   "outputs": [],
   "source": [
    "def generate_moons_data(count: int) -> tuple:\n",
    "    data, labels = make_moons(n_samples=count, noise=0.1)\n",
    "    data = data.astype('float32')\n",
    "    split = int(0.8 * count)\n",
    "    train_data, test_data = data[:split], data[split:]\n",
    "    train_labels, test_labels = labels[:split], labels[split:]\n",
    "    return train_data, train_labels, test_data, test_labels"
   ]
  },
  {
   "cell_type": "code",
   "execution_count": null,
   "metadata": {
    "colab": {
     "base_uri": "https://localhost:8080/",
     "height": 342
    },
    "id": "8fVx4EVYyHjK",
    "outputId": "1d485c0d-86e4-4c68-f43f-ed5bbf7e4568"
   },
   "outputs": [],
   "source": [
    "COUNT = 5000\n",
    "\n",
    "train_data, train_labels, test_data, test_labels = generate_moons_data(COUNT)\n",
    "visualize_2d_data(train_data, test_data, train_labels, test_labels)"
   ]
  },
  {
   "cell_type": "markdown",
   "metadata": {
    "id": "Y6W74_xcyLt5"
   },
   "source": [
    "Our model will be a sequence of the affine coupling layers. Note that you have to permute the features that left unchanged between different layers (change order of $\\mathbf{x}_1$ and $\\mathbf{x}_2$ in the formulas below).\n",
    "\n",
    "Forward transform:\n",
    "$$\n",
    "    \\begin{cases}\n",
    "        \\mathbf{y}_1 &= \\mathbf{x}_1; \\\\\n",
    "        \\mathbf{y}_2 &= \\mathbf{x}_2 \\odot \\exp (s(\\mathbf{x}_1)) + t(\\mathbf{x}_1).\n",
    "    \\end{cases} \n",
    "$$\n",
    "\n",
    "Inverse transform:\n",
    "$$\n",
    "    \\begin{cases}\n",
    "        \\mathbf{x}_1 &= \\mathbf{y}_1; \\\\\n",
    "        \\mathbf{x}_2 &= (\\mathbf{y}_2 - t(\\mathbf{y}_1)) \\odot \\exp ( - s(\\mathbf{y}_1)).\n",
    "    \\end{cases} \n",
    "$$\n",
    "\n",
    "Here $s(\\cdot)$ and $t(\\cdot)$ are outputs of neural network. In this task our networks will be fully connected MLP."
   ]
  },
  {
   "cell_type": "code",
   "execution_count": null,
   "metadata": {
    "id": "A5Xe7lJRyHmW"
   },
   "outputs": [],
   "source": [
    "class FullyConnectedMLP(nn.Module):\n",
    "    def __init__(self, input_shape: int, hiddens: list, output_shape: int) -> None:\n",
    "        assert isinstance(hiddens, list)\n",
    "        super().__init__()\n",
    "        self.input_shape = (input_shape,)\n",
    "        self.output_shape = (output_shape,)\n",
    "        self.hiddens = hiddens\n",
    "\n",
    "        model = []\n",
    "\n",
    "        # ====\n",
    "        # your code \n",
    "        # Stack Dense layers with ReLU activation.\n",
    "        # Note that you do not have to add relu after the last dense layer\n",
    "        \n",
    "        # ====\n",
    "        self.net = nn.Sequential(*model)\n",
    "\n",
    "    def forward(self, x: torch.Tensor) -> torch.Tensor:\n",
    "        # ====\n",
    "        # your code\n",
    "        # apply network that was defined in __init__ and return the output\n",
    "        \n",
    "        # ===="
   ]
  },
  {
   "cell_type": "markdown",
   "metadata": {
    "id": "zsBaNAYSeuxj"
   },
   "source": [
    "Let define the affine coupling layer."
   ]
  },
  {
   "cell_type": "code",
   "execution_count": null,
   "metadata": {
    "id": "iGcCsq3aeozt"
   },
   "outputs": [],
   "source": [
    "class AffineCouplingLayer(nn.Module):\n",
    "    def __init__(self, parity_type: bool, n_hiddens: list) -> None:\n",
    "        assert isinstance(parity_type, bool)\n",
    "        assert isinstance(n_hiddens, list)\n",
    "        super().__init__()\n",
    "        self.mask = self.build_mask(parity_type=parity_type)\n",
    "        self.mlp = FullyConnectedMLP(input_shape=2, hiddens=n_hiddens, output_shape=2)\n",
    "\n",
    "    def build_mask(self, parity_type: bool) -> torch.Tensor:\n",
    "        # ====\n",
    "        # your code\n",
    "        # the mask is extremely simple\n",
    "        # it is a float tensor of two scalars (1.0 and 0.0)\n",
    "        # the partition_type defines the order of these two scalars\n",
    "        \n",
    "        # ====\n",
    "\n",
    "    def forward(self, x: torch.Tensor, invert: bool = False) -> tuple:\n",
    "        # ====\n",
    "        # your code\n",
    "        # 1) mask our input x, using self.mask\n",
    "        # 2) apply mlp to masked input to get s and t \n",
    "        \n",
    "        # ====\n",
    "\n",
    "        # we invert mask here\n",
    "        t = t * (1.0 - mask)\n",
    "        s = s * (1.0 - mask)\n",
    "\n",
    "        # ====\n",
    "        # your code\n",
    "        # apply forward (invert=False) or inverse (invert=True) transform (invert=False)\n",
    "        \n",
    "        # ====\n",
    "\n",
    "        # the output is transformed input \n",
    "        # and logarithm of jacobian (which equals to s)\n",
    "        return x, s\n",
    "        \n",
    "\n",
    "def test_affine_coupling_layer():\n",
    "    x = torch.zeros((4, 2), dtype=torch.float32).cuda()\n",
    "\n",
    "    layer = AffineCouplingLayer(parity_type=True, n_hiddens=[4, 4]).cuda()\n",
    "    mask = np.array([1, 0], dtype=np.float32)\n",
    "    out1, out2 = layer(x)\n",
    "    assert tuple(out1.size()) == (4, 2)\n",
    "    assert tuple(out2.size()) == (4, 2)\n",
    "\n",
    "    assert np.allclose(out1.cpu().detach().numpy()[0, 0] * mask, np.zeros((2, 2)))\n",
    "    assert np.allclose(out2.cpu().detach().numpy()[0, 0], np.zeros((2, 2)))\n",
    "\n",
    "    layer = AffineCouplingLayer(parity_type=False, n_hiddens=[4, 4]).cuda()\n",
    "    mask = np.array([[0, 1]], dtype=np.float32)\n",
    "    out1, out2 = layer(x)\n",
    "    assert tuple(out1.size()) == (4, 2)\n",
    "    assert tuple(out2.size()) == (4, 2)\n",
    "\n",
    "    assert np.allclose(out1.cpu().detach().numpy() * mask, np.zeros((4, 2)))\n",
    "\n",
    "test_affine_coupling_layer()"
   ]
  },
  {
   "cell_type": "markdown",
   "metadata": {
    "id": "JZWseqMr3Mu9"
   },
   "source": [
    "We are ready to define RealNVP model. The model objective is the negative value of log-likelihood. Log-likelihood is given by the change of variables (CoV) theorem:\n",
    "$$\n",
    "\t\\log p(\\mathbf{x}| \\boldsymbol{\\theta}) = \\log p(\\mathbf{z}) + \\log \\left|\\det \\left(  \\frac{\\partial \\mathbf{z}}{\\partial \\mathbf{x}} \\right) \\right| = \\log p(f(\\mathbf{x}, \\boldsymbol{\\theta})) + \\log \\left|\\det \\left( \\frac{\\partial f(\\mathbf{x}, \\boldsymbol{\\theta})}{\\partial \\mathbf{x}} \\right) \\right|.\n",
    "$$"
   ]
  },
  {
   "cell_type": "code",
   "execution_count": null,
   "metadata": {
    "id": "habKWqz2eo2T"
   },
   "outputs": [],
   "source": [
    "class RealNVP(nn.Module):\n",
    "    def __init__(self) -> None:\n",
    "        super().__init__()\n",
    "\n",
    "        # base distribution p(z) is normal\n",
    "        self.prior = torch.distributions.Normal(torch.tensor(0.), torch.tensor(1.))\n",
    "        # ====\n",
    "        # your code\n",
    "        # apply sequence of AffineCouplingLayer with alternating parity_type\n",
    "        # 6 layers is sufficient (with 2 hidden layers in each affine layer)\n",
    "        \n",
    "        # ====\n",
    "        \n",
    "    def forward(self, x: torch.Tensor, invert: bool = False) -> tuple:\n",
    "        z = x\n",
    "        log_det = 0.0\n",
    "\n",
    "        # ====\n",
    "        # your code\n",
    "        # apply sequence of transforms and sum all of log_dets\n",
    "        # if invert == True, you have to apply transforms in reversed order (from last to first!) with invert=True flag\n",
    "        \n",
    "        # ====\n",
    "        return z, log_det\n",
    "\n",
    "    def log_prob(self, x: torch.Tensor) -> torch.Tensor:\n",
    "        # ====\n",
    "        # your code\n",
    "        # 1) make forward pass with right inverse flag\n",
    "        # 2) sum log_det with log of base distribution (log p(z)) - see the formula above\n",
    "        # 3) we will get tensor of shape [batch_size, 2] - sum it over the the last dimension\n",
    "        \n",
    "        # ====\n",
    "\n",
    "    def loss(self, x: torch.Tensor) -> dict:\n",
    "        log_prob = self.log_prob(x)\n",
    "        # log_prob should be a vector of batch_size\n",
    "        assert len(log_prob.shape) == 1\n",
    "        return {'nll_loss': - log_prob.mean()}\n",
    "\n",
    "    def sample(self, n: int) -> torch.Tensor:\n",
    "        # ====\n",
    "        # your code\n",
    "        # 1) sample from the prior\n",
    "        # 2) apply the forward pass with the right inverse flag\n",
    "        # 3) return only the first output of the forward pass (the second is the log of determinant - we don't need it in sampling)\n",
    "        \n",
    "        # ===="
   ]
  },
  {
   "cell_type": "markdown",
   "metadata": {
    "id": "E0pyoKID5EQx"
   },
   "source": [
    "It is time to train our model."
   ]
  },
  {
   "cell_type": "code",
   "execution_count": null,
   "metadata": {
    "colab": {
     "base_uri": "https://localhost:8080/",
     "height": 319,
     "referenced_widgets": [
      "39cd2a67b6e548cdb98dab4292124ba1",
      "6bd9367921b0412281be2c4ef29ea2d7",
      "97cd2aa9eeaf4010846500eaa41dc9df",
      "3cfadf4d1fe14c148c5ef9eff8b28f9a",
      "fc7b98e6ee034cb2bfd4a10ad92511f3",
      "a4d1511e80ec4c3b8ebb14a52ad2099d",
      "0dad45ecd7b245838c74f0342ff8b885",
      "bc107ed0c85a478ba77efb262c93348b",
      "92cebb45bb724ee5b7f98af8826f0d41",
      "3d345c7d73524ff9ac30f4f0f1d8b11c",
      "0ab1764e6a584c59b67a518679778838"
     ]
    },
    "id": "iTsZH3rXyOME",
    "outputId": "d9c7c345-9d9e-4b53-9d34-b31ddce4b07e"
   },
   "outputs": [],
   "source": [
    "# ====\n",
    "# your code\n",
    "# choose these parameters\n",
    "\n",
    "BATCH_SIZE =  # any adequate value\n",
    "EPOCHS =      # < 100\n",
    "LR =          # < 1e-2\n",
    "# ====\n",
    "\n",
    "COUNT = 5000\n",
    "\n",
    "train_data, train_labels, test_data, test_labels = generate_moons_data(COUNT)\n",
    "\n",
    "loader_args = dict(batch_size=BATCH_SIZE, shuffle=True)\n",
    "train_loader = data.DataLoader(train_data, **loader_args)\n",
    "test_loader = data.DataLoader(test_data, **loader_args)\n",
    "\n",
    "# model\n",
    "model = RealNVP()\n",
    "\n",
    "# train\n",
    "train_losses, test_losses = train_model(\n",
    "    model, train_loader, test_loader, epochs=EPOCHS, lr=LR, loss_key='nll_loss', use_cuda=USE_CUDA, use_tqdm=True\n",
    ")\n",
    "plot_training_curves(train_losses, test_losses)"
   ]
  },
  {
   "cell_type": "markdown",
   "metadata": {
    "id": "04SnA0bq54sT"
   },
   "source": [
    "Let check visually that our model is correct.\n",
    "\n",
    "Here we visualize:\n",
    "* samples $\\mathbf{x}$ from $p(\\mathbf{x})$ - you have to get moons;\n",
    "* the density $p(\\mathbf{x})$ - you have to get moons;\n",
    "* the points $\\mathbf{z}$ from prior distribution $p(\\mathbf{z})$ - it should be similar to standard normal."
   ]
  },
  {
   "cell_type": "code",
   "execution_count": null,
   "metadata": {
    "colab": {
     "base_uri": "https://localhost:8080/",
     "height": 1000
    },
    "id": "rtOUrfZegv6x",
    "outputId": "04495388-65fd-4007-9ea9-ba7a753f5566"
   },
   "outputs": [],
   "source": [
    "# Samples\n",
    "\n",
    "x_samples = model.sample(4000).cpu().detach().numpy()\n",
    "visualize_2d_samples(x_samples, title='Data space', xlabel='x1', ylabel='x2')\n",
    "\n",
    "# Density\n",
    "dx, dy = 0.025, 0.025\n",
    "x_lim = (-1.5, 2.5)\n",
    "y_lim = (-1, 1.5)\n",
    "y, x = np.mgrid[slice(y_lim[0], y_lim[1] + dy, dy),\n",
    "                slice(x_lim[0], x_lim[1] + dx, dx)]\n",
    "mesh_xs = torch.FloatTensor(np.stack([x, y], axis=2).reshape(-1, 2))\n",
    "\n",
    "if USE_CUDA:\n",
    "    mesh_xs = mesh_xs.cuda()\n",
    "\n",
    "densities = np.exp(model.log_prob(mesh_xs).cpu().detach().numpy())\n",
    "\n",
    "# Latents\n",
    "train_tensor = torch.FloatTensor(train_data)\n",
    "if USE_CUDA:\n",
    "    train_tensor = train_tensor.cuda()\n",
    "z = model(train_tensor)[0]\n",
    "latents = z.cpu().detach().numpy()\n",
    "\n",
    "visualize_2d_densities(x, y, densities, title='Densities', xlabel='x1', ylabel='x2')\n",
    "visualize_2d_samples(latents, title='Latent space', labels=train_labels, xlabel='z1', ylabel='z2')"
   ]
  },
  {
   "cell_type": "markdown",
   "metadata": {
    "id": "HqV-CfQi82H5"
   },
   "source": [
    "## Task 3: RealNVP on MNIST (5pt)\n",
    "\n",
    "In this task you will implement the [RealNVP](https://arxiv.org/abs/1605.08803) for MNIST dataset. \n",
    "\n",
    "Download the data from [here](https://drive.google.com/file/d/1eTH_3i6yShm5yQikO0KdDEG3Hue9lNoZ/view?usp=sharing) (you could use the cell below)."
   ]
  },
  {
   "cell_type": "code",
   "execution_count": null,
   "metadata": {
    "colab": {
     "base_uri": "https://localhost:8080/"
    },
    "id": "mli_SsVl5_2g",
    "outputId": "7f3fad11-b583-42f5-970d-8c83868e1a5e"
   },
   "outputs": [],
   "source": [
    "!gdown --id 1eTH_3i6yShm5yQikO0KdDEG3Hue9lNoZ"
   ]
  },
  {
   "cell_type": "code",
   "execution_count": null,
   "metadata": {
    "colab": {
     "base_uri": "https://localhost:8080/",
     "height": 375
    },
    "id": "WSdMwThk6Bgm",
    "outputId": "e150afde-0b01-4b16-952b-66956a69d9d5"
   },
   "outputs": [],
   "source": [
    "train_data, test_data = load_pickle('/content/mnist.pkl', flatten=False, binarize=True)\n",
    "visualize_images(train_data, 'MNIST samples')"
   ]
  },
  {
   "cell_type": "markdown",
   "metadata": {
    "id": "RUj2RR37HBCM"
   },
   "source": [
    "Please note that our data is discrete, and, moreover, it is binary. "
   ]
  },
  {
   "cell_type": "code",
   "execution_count": null,
   "metadata": {
    "colab": {
     "base_uri": "https://localhost:8080/"
    },
    "id": "ACSroaAyHHpi",
    "outputId": "434200e7-2f80-4f85-8fe2-e3c0fb1d2579"
   },
   "outputs": [],
   "source": [
    "np.unique(train_data)"
   ]
  },
  {
   "cell_type": "markdown",
   "metadata": {
    "id": "VgTS-e65AYqf"
   },
   "source": [
    "In this task for the neural networks $s(\\cdot)$ and $t(\\cdot)$ we will use the ResNet-like network. The model will consist stack of Residual blocks:\n",
    "$$\n",
    "    \\mathbf{y} = \\mathbf{x} + f(\\mathbf{x}).\n",
    "$$"
   ]
  },
  {
   "cell_type": "code",
   "execution_count": null,
   "metadata": {
    "id": "NLRn8rIr_W-z"
   },
   "outputs": [],
   "source": [
    "class ResnetBlock(nn.Module):\n",
    "    def __init__(self, dim: int) -> None:\n",
    "        super().__init__()\n",
    "        self.block = nn.Sequential(\n",
    "            nn.Conv2d(dim, dim, kernel_size=1),\n",
    "            nn.ReLU(),\n",
    "            nn.Conv2d(dim, dim, kernel_size=3, padding=1),  \n",
    "            nn.ReLU(),\n",
    "            nn.Conv2d(dim, dim, kernel_size=1)\n",
    "        )\n",
    "\n",
    "    def forward(self, x: torch.Tensor) -> torch.Tensor:\n",
    "        return x + self.block(x)\n",
    "\n",
    "\n",
    "class SimpleResnet(nn.Module):\n",
    "    def __init__(self, in_channels: int, out_channels: int, n_filters: int, n_blocks: int) -> None:\n",
    "        super().__init__()\n",
    "        layers = [\n",
    "            nn.Conv2d(in_channels, n_filters, kernel_size=3, padding=1),\n",
    "            nn.ReLU()\n",
    "        ]\n",
    "        for _ in range(n_blocks):\n",
    "            layers.append(ResnetBlock(n_filters))\n",
    "        layers.extend([\n",
    "            nn.ReLU(),\n",
    "            nn.Conv2d(n_filters, out_channels, kernel_size=3, padding=1)\n",
    "        ])\n",
    "        self.resnet = nn.Sequential(*layers)\n",
    "\n",
    "    def forward(self, x: torch.Tensor) -> torch.Tensor:\n",
    "        return self.resnet(x)"
   ]
  },
  {
   "cell_type": "markdown",
   "metadata": {
    "id": "_9YK5q4fCpIE"
   },
   "source": [
    "We have to implement coupling layer for images. To split image in two parts we will you checkerboard and chanelwise splitting (see image below)."
   ]
  },
  {
   "cell_type": "markdown",
   "metadata": {
    "id": "1cD0c_yWCk0p"
   },
   "source": [
    "![realnvp_masking.png](data:image/png;base64,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)"
   ]
  },
  {
   "cell_type": "markdown",
   "metadata": {
    "id": "mQKHbiZcC52T"
   },
   "source": [
    "Firstly, let implement checkerboard splitting."
   ]
  },
  {
   "cell_type": "code",
   "execution_count": null,
   "metadata": {
    "id": "3eLIzWTd9KZW"
   },
   "outputs": [],
   "source": [
    "class AffineCheckerboardCouplingLayer(nn.Module):\n",
    "    def __init__(self, parity_type: bool, input_shape: tuple, in_channels: int = 3, n_filters: int = 32, n_blocks: int = 4) -> None:\n",
    "        assert isinstance(parity_type, bool)\n",
    "        super().__init__()\n",
    "        self.input_shape = input_shape\n",
    "        self.parity_type = parity_type\n",
    "        self.mask = self.build_mask()\n",
    "        self.scale = nn.Parameter(torch.zeros(1), requires_grad=True)\n",
    "        self.scale_shift = nn.Parameter(torch.zeros(1), requires_grad=True)\n",
    "\n",
    "        # ====\n",
    "        # your code\n",
    "        # define resnet that will output s() and t()\n",
    "        \n",
    "        # ====\n",
    "\n",
    "    def build_mask(self) -> torch.Tensor:\n",
    "        # ====\n",
    "        # your code\n",
    "        # return checkerboard mask\n",
    "        # if parity_type == True, the top left corner will be 1.0\n",
    "        # if parity_type == False, the top left corner will be 0.0\n",
    "        \n",
    "        # ====\n",
    "        assert mask.shape[1:] == (1, *self.input_shape)\n",
    "        return torch.tensor(mask.astype('float32')).cuda()\n",
    "\n",
    "    def forward(self, x: torch.Tensor, invert: bool = False) -> tuple:\n",
    "        batch_size = x.shape[0]\n",
    "        n_channels = x.shape[1]\n",
    "        mask = self.mask.repeat(batch_size, 1, 1, 1)\n",
    "\n",
    "        # ====\n",
    "        # your code\n",
    "        # 1) mask tensor x\n",
    "        # 2) apply resnet to masked x\n",
    "        # 3) split resnet output to get s and t\n",
    "        \n",
    "        # ====\n",
    "\n",
    "        # this formula is described in Section 4.1 in original paper\n",
    "        # just left it unchanged\n",
    "        s = self.scale * torch.tanh(s) + self.scale_shift\n",
    "        t = t * (1.0 - mask)\n",
    "        s = s * (1.0 - mask)\n",
    "\n",
    "        # ====\n",
    "        # your code\n",
    "        # apply forward (invert=False) or inverse (invert=True) transform\n",
    "\n",
    "        # ====\n",
    "        return x, s\n",
    "        \n",
    "        \n",
    "def test_affine_checkerboard_coupling_layer():\n",
    "    x = torch.zeros((1, 1, 2, 2), dtype=torch.float32).cuda()\n",
    "\n",
    "    layer = AffineCheckerboardCouplingLayer(parity_type=True, input_shape=(2, 2), in_channels=1, n_filters=4, n_blocks=1).cuda()\n",
    "    mask = np.array([[1, 0], [0, 1]], dtype=np.float32)\n",
    "    out1, out2 = layer(x)\n",
    "    assert tuple(out1.size()) == (1, 1, 2, 2)\n",
    "    assert tuple(out2.size()) == (1, 1, 2, 2)\n",
    "\n",
    "    assert np.allclose(out1.cpu().detach().numpy()[0, 0] * mask, np.zeros((2, 2)))\n",
    "    assert np.allclose(out2.cpu().detach().numpy()[0, 0], np.zeros((2, 2)))\n",
    "\n",
    "    layer = AffineCheckerboardCouplingLayer(parity_type=False, input_shape=(2, 2), in_channels=1, n_filters=4, n_blocks=1).cuda()\n",
    "    mask = np.array([[0, 1], [1, 0]], dtype=np.float32)\n",
    "    out1, out2 = layer(x)\n",
    "    assert tuple(out1.size()) == (1, 1, 2, 2)\n",
    "    assert tuple(out2.size()) == (1, 1, 2, 2)\n",
    "\n",
    "    assert np.allclose(out1.cpu().detach().numpy()[0, 0] * mask, np.zeros((2, 2)))\n",
    "    assert np.allclose(out2.cpu().detach().numpy()[0, 0], np.zeros((2, 2)))\n",
    "\n",
    "\n",
    "test_affine_checkerboard_coupling_layer()"
   ]
  },
  {
   "cell_type": "markdown",
   "metadata": {
    "id": "QegCnNk8D7KL"
   },
   "source": [
    "Secodly, let implement channelwise splitting."
   ]
  },
  {
   "cell_type": "code",
   "execution_count": null,
   "metadata": {
    "id": "ydxoYPnhH4VB"
   },
   "outputs": [],
   "source": [
    "class AffineChannelCouplingLayer(nn.Module):\n",
    "    def __init__(self, parity_type: bool, in_channels: int = 6, n_filters: int = 32, n_blocks: int = 4) -> None:\n",
    "        assert isinstance(parity_type, bool)\n",
    "        super().__init__()\n",
    "        self.parity_type = parity_type\n",
    "        self.scale = nn.Parameter(torch.zeros(1), requires_grad=True)\n",
    "        self.scale_shift = nn.Parameter(torch.zeros(1), requires_grad=True)\n",
    "        # ====\n",
    "        # your code\n",
    "        # define resnet that will output s() and t()\n",
    "        \n",
    "        # ====\n",
    "\n",
    "    def forward(self, x: torch.Tensor, invert: bool = False) -> torch.Tensor:\n",
    "        n_channels = x.shape[1]\n",
    "        \n",
    "        # ====\n",
    "        # your code\n",
    "        # 1) split x to two equal parts by channel dimension (dim=1)\n",
    "        # 2) apply resnet to masked x\n",
    "        # 3) split resnet output to get s and t\n",
    "        \n",
    "        # ====\n",
    "\n",
    "        # this formula is described in Section 4.1 in original paper\n",
    "        # just left it unchanged\n",
    "        s = self.scale * torch.tanh(s) + self.scale_shift\n",
    "        \n",
    "        # ====\n",
    "        # your code\n",
    "        # apply forward (invert=False) or inverse (invert=True) transform\n",
    "        \n",
    "        # ====\n",
    "\n",
    "        # look carefully at this piece of code\n",
    "        if self.parity_type:\n",
    "            return torch.cat([z, z_split], dim=1), torch.cat([s, torch.zeros_like(s)], dim=1)\n",
    "        else:\n",
    "            return torch.cat([z_split, z], dim=1), torch.cat([torch.zeros_like(s), s], dim=1)\n",
    "\n",
    "\n",
    "def test_affine_channel_coupling_layer():\n",
    "    x = torch.zeros((1, 4, 2, 2), dtype=torch.float32).cuda()\n",
    "\n",
    "    layer = AffineChannelCouplingLayer(parity_type=True, in_channels=2, n_filters=4, n_blocks=1).cuda()\n",
    "    mask = np.array([[[0, 0], [0, 0]], [[0, 0], [0, 0]], [[1, 1], [1, 1]], [[1, 1], [1, 1]]], dtype=np.float32)\n",
    "    out1, out2 = layer(x)\n",
    "    assert tuple(out1.size()) == (1, 4, 2, 2)\n",
    "    assert tuple(out2.size()) == (1, 4, 2, 2)\n",
    "\n",
    "    assert np.allclose(out1.cpu().detach().numpy()[0] * mask, np.zeros((4, 2, 2)))\n",
    "    assert np.allclose(out2.cpu().detach().numpy()[0, 0], np.zeros((4, 2, 2)))\n",
    "\n",
    "    layer = AffineChannelCouplingLayer(parity_type=False, in_channels=2, n_filters=4, n_blocks=1).cuda()\n",
    "    mask = np.array([[[1, 1], [1, 1]], [[1, 1], [1, 1]], [[0, 0], [0, 0]], [[0, 0], [0, 0]]], dtype=np.float32)\n",
    "    out1, out2 = layer(x)\n",
    "    assert tuple(out1.size()) == (1, 4, 2, 2)\n",
    "    assert tuple(out2.size()) == (1, 4, 2, 2)\n",
    "\n",
    "    assert np.allclose(out1.cpu().detach().numpy()[0, 0] * mask, np.zeros((4, 2, 2)))\n",
    "    assert np.allclose(out2.cpu().detach().numpy()[0, 0], np.zeros((4, 2, 2)))\n",
    "    \n",
    "\n",
    "test_affine_channel_coupling_layer()"
   ]
  },
  {
   "cell_type": "markdown",
   "metadata": {
    "id": "n_Zs2b1GEnKf"
   },
   "source": [
    "We will use the following normalization layer for more stable training. Look carefully at the class below (do not chage it)."
   ]
  },
  {
   "cell_type": "code",
   "execution_count": null,
   "metadata": {
    "id": "PSWHn8o84M9p"
   },
   "outputs": [],
   "source": [
    "class ActNormLayer(nn.Module):\n",
    "    def __init__(self, n_channels: int) -> None:\n",
    "        super().__init__()\n",
    "        self.log_scale = nn.Parameter(torch.zeros(1, n_channels, 1, 1), requires_grad=True)\n",
    "        self.shift = nn.Parameter(torch.zeros(1, n_channels, 1, 1), requires_grad=True)\n",
    "        self.n_channels = n_channels\n",
    "        self.initialized = False\n",
    "\n",
    "    def forward(self, x: torch.Tensor, invert: bool = False) -> torch.Tensor:\n",
    "        if invert:\n",
    "            return (x - self.shift) * torch.exp(-self.log_scale), self.log_scale\n",
    "        else:\n",
    "            if not self.initialized:\n",
    "                self.shift.data = -torch.mean(x, dim=[0, 2, 3], keepdim=True)\n",
    "                self.log_scale.data = - torch.log(\n",
    "                    torch.std(x.permute(1, 0, 2, 3).reshape(self.n_channels, -1), dim=1).reshape(1, self.n_channels, 1, 1))\n",
    "                self.initialized = True\n",
    "                result = x * torch.exp(self.log_scale) + self.shift\n",
    "            return x * torch.exp(self.log_scale) + self.shift, self.log_scale"
   ]
  },
  {
   "cell_type": "markdown",
   "metadata": {
    "id": "IoxTe33VG9DE"
   },
   "source": [
    "Our data is discrete and binary. The normalizing flow model works with continuous data (it is a requirement of CoV theorem).\n",
    "\n",
    "Therefore, we have to convert our discrete data to continuous one. This process is called dequantization. We will address it later in course.\n",
    "\n",
    "To dequantize the discrete variable $x \\in \\{0, 1, \\dots, K - 1\\}$ we add uniform noise to it:\n",
    "$$\n",
    "    y = x + u, \\quad u \\sim \\text{Uniform}[0, 1].\n",
    "$$\n",
    "\n",
    "Then random variable $y \\in [0, K]$ will be continuous and in fact similar to $x$.\n",
    "\n",
    "Let implement simple function for such dequantization."
   ]
  },
  {
   "cell_type": "code",
   "execution_count": null,
   "metadata": {
    "id": "_hCb3Ub_xp86"
   },
   "outputs": [],
   "source": [
    "def dequantize(x: torch.Tensor, nbins: int = 256) -> torch.Tensor:\n",
    "    return (x * (nbins - 1) + torch.distributions.Uniform(0.0, 1.0).sample(x.shape).to(x.device)) / nbins\n",
    "\n",
    "\n",
    "def test_dequantize():\n",
    "    x = torch.tensor((0, 1, 2, 3)) / 256.0\n",
    "    y = dequantize(x).cpu().detach().numpy()\n",
    "    x = x.cpu().detach().numpy()\n",
    "    assert y.min() >= 0.0\n",
    "    assert y.max() <= 4 / 256.0\n",
    "    assert (y[3] > y[2]) and (y[2] > y[1]) and (y[1] > y[0])\n",
    "    assert (y[3] > x[3]) and (y[2] > x[2]) and (y[1] > x[1]) and (y[0] > x[0])\n",
    "\n",
    "test_dequantize()"
   ]
  },
  {
   "cell_type": "markdown",
   "metadata": {
    "id": "eFzrlcKEI9Dv"
   },
   "source": [
    "The second issue that we will address here is the boundedness of the image domain. It is more natural for the model to fit the data from the range $(-\\infty, +\\infty)$. \n",
    "\n",
    "The most natural way to convert $(-\\infty, +\\infty)$ range to the $[0, 1]$ is to apply sigmoid function. But here we need the inverse transform from [0, 1] range (it is normalized dequantized images) to $(-\\infty, +\\infty)$. So we need to apply inverse sigmoid function. This function is called logit:\n",
    "$$\n",
    "    \\text{logit}(x) = \\log \\left( \\frac{x}{1 - x} \\right) = \\log (x) - \\log (1 - x).\n",
    "$$\n",
    "\n",
    "The last note here is the stability of this transform. To make it stable the common practice is to convert [0, 1] range to the $[\\alpha, 1 - \\alpha]$ firstly:\n",
    "$$\n",
    "    \\text{logit}(x) = \\log (y) - \\log (1 - y), \\quad \\text{where } y = \\alpha + (1 - 2 * \\alpha) * x.\n",
    "$$\n",
    "\n",
    "Also we need the logarithm of the Jacobian' determinant for this transform. We implement this for you, but we really encourage you to check that the formula in the code is correct for better understanding."
   ]
  },
  {
   "cell_type": "code",
   "execution_count": null,
   "metadata": {
    "id": "pTQbuAMXoV_j"
   },
   "outputs": [],
   "source": [
    "class LogitTransform(nn.Module):\n",
    "    def __init__(self, alpha: float = 0.05, dequantize: bool = True, nbins: int = 256) -> None:\n",
    "        super().__init__()\n",
    "        self.alpha = alpha\n",
    "        self.dequantize = dequantize\n",
    "        self.nbins = nbins\n",
    "\n",
    "    def forward(self, x: torch.Tensor, invert: bool = False) -> tuple:\n",
    "        if invert:  \n",
    "            log_det = - x - 2 * F.softplus(-x) - torch.log(torch.tensor(1 - 2 *  self.alpha))\n",
    "            x = (torch.sigmoid(x) - self.alpha) / (1 - 2 * self.alpha)\n",
    "        else:\n",
    "            # dequantization\n",
    "            if self.dequantize:\n",
    "                x = dequantize(x, nbins=self.nbins)\n",
    "\n",
    "            # ====\n",
    "            # your code\n",
    "            # 1) scale the data to [alpha, 1 - alpha range] (save the result to x_scaled)\n",
    "            # 2) apply logit operation that described above (save the result to x)\n",
    "            \n",
    "            # ====\n",
    "\n",
    "            # look carefully at this expression, try to understand this formula\n",
    "            log_det = - torch.log(x_scaled) - torch.log(1.0 - x_scaled) + torch.log(torch.tensor(1 - 2 * self.alpha))\n",
    "        return x, log_det\n",
    "\n",
    "\n",
    "def test_logit_transform():\n",
    "    layer = LogitTransform(dequantize=False)\n",
    "    x = torch.tensor((0, 1, 2, 3)) / 256.0\n",
    "    z, log_det = layer(x)\n",
    "    assert np.allclose(z.cpu().detach().numpy(), np.array([-2.944439, -2.8727808, -2.8054335, -2.7418802]))\n",
    "    assert np.allclose(log_det.cpu().detach().numpy(), np.array([2.9416652, 2.8774219, 2.8175175, 2.7614343]))\n",
    "\n",
    "    x_restored, log_det2 = layer(z, invert=True)\n",
    "    assert np.allclose(x.cpu().detach().numpy(), x_restored.cpu().detach().numpy())\n",
    "\n",
    "\n",
    "test_logit_transform()"
   ]
  },
  {
   "cell_type": "markdown",
   "metadata": {
    "id": "YeBb8pa5NYqR"
   },
   "source": [
    "Not it is time to define the final model.\n",
    "\n",
    "The model will consist of several blocks:\n",
    "\n",
    "1. Logit Transform (to convert the data to $(-\\infty, \\infty)$ range).\n",
    "2. Stack of checkerboard coupling layers.\n",
    "3. Squeeze operation (convert tensor $[B, C, H, W]$ to $[B, 4 * C, H / 2, W / 2]$).\n",
    "4. Stack of channelwise coupling layers\n",
    "5. Unsqueeze operation (convert tensor $[B, C, H, W]$ to $[B, C / 4, 2 * H, 2 * W]$).\n",
    "2. Stack of checkerboard coupling layers."
   ]
  },
  {
   "cell_type": "code",
   "execution_count": null,
   "metadata": {
    "id": "f3ZavyNUQ4DP"
   },
   "outputs": [],
   "source": [
    "class RealNVP(nn.Module):\n",
    "    def __init__(self, input_shape: tuple, n_channels: int, n_filters: int, n_blocks: int, nbins:int = 256) -> None:\n",
    "        super().__init__()\n",
    "        self.input_shape = input_shape\n",
    "        self.n_channels = n_channels\n",
    "        self.nbins = nbins\n",
    "\n",
    "        self.prior = torch.distributions.Normal(torch.tensor(0.).cuda(), torch.tensor(1.).cuda())\n",
    "        self.logit_transform = LogitTransform(nbins=nbins, dequantize=True)\n",
    "\n",
    "        # ====\n",
    "        # your code\n",
    "        # define stack of checkerboard coupling layers with alternating parity_type\n",
    "        # add ActNormLayer after each coupling layer\n",
    "        \n",
    "        # ====\n",
    "\n",
    "        # ====\n",
    "        # your code\n",
    "        # define stack of channel coupling layers with alternating parity_type\n",
    "        # add ActNormLayer after each coupling layer\n",
    "        \n",
    "        # ====\n",
    "\n",
    "        # ====\n",
    "        # your code\n",
    "        # define stack of checkerboard coupling layers with alternating parity_type\n",
    "        # add ActNormLayer after each coupling layer\n",
    "        \n",
    "        # ====\n",
    "        \n",
    "    def squeeze(self, x: torch.Tensor) -> torch.Tensor:\n",
    "        # Look carefully at this piece of code (do not change)\n",
    "        [B, C, H, W] = list(x.size())\n",
    "        x = x.reshape(B, C, H // 2, 2, W // 2, 2)\n",
    "        x = x.permute(0, 1, 3, 5, 2, 4)\n",
    "        x = x.reshape(B, C * 4, H // 2, W // 2)\n",
    "        return x\n",
    "\n",
    "    def undo_squeeze(self, x: torch.Tensor) -> torch.Tensor:\n",
    "        # Look carefully at this piece of code (do not change)\n",
    "        [B, C, H, W] = list(x.size())\n",
    "        x = x.reshape(B, C // 4, 2, 2, H, W)\n",
    "        x = x.permute(0, 1, 4, 2, 5, 3)\n",
    "        x = x.reshape(B, C // 4, H * 2, W * 2)\n",
    "        return x\n",
    "\n",
    "    def forward(self, x: torch.TEnsor, invert: bool = False) -> tuple:\n",
    "        z = x\n",
    "        log_det = torch.zeros_like(x)\n",
    "        if invert:\n",
    "            for op in reversed(self.transforms3):\n",
    "                z, delta_log_det = op.forward(z, invert=True)\n",
    "                log_det += delta_log_det\n",
    "            z, log_det = self.squeeze(z), self.squeeze(log_det)\n",
    "            for op in reversed(self.transforms2):\n",
    "                z, delta_log_det = op.forward(z, invert=True)\n",
    "                log_det += delta_log_det\n",
    "            z, log_det = self.undo_squeeze(z), self.undo_squeeze(log_det)\n",
    "            for op in reversed(self.transforms1):\n",
    "                z, delta_log_det = op.forward(z, invert=True)\n",
    "                log_det += delta_log_det\n",
    "            z, delta_log_det = self.logit_transform(z, invert=True)\n",
    "            log_det += delta_log_det\n",
    "        else:\n",
    "            z, delta_log_det = self.logit_transform(z)\n",
    "            log_det += delta_log_det\n",
    "            for op in self.transforms1:\n",
    "                z, delta_log_det = op.forward(z)\n",
    "                log_det += delta_log_det\n",
    "            z, log_det = self.squeeze(z), self.squeeze(log_det)\n",
    "            for op in self.transforms2:\n",
    "                z, delta_log_det = op.forward(z)\n",
    "                log_det += delta_log_det\n",
    "            z, log_det = self.undo_squeeze(z), self.undo_squeeze(log_det)\n",
    "            for op in self.transforms3:\n",
    "                z, delta_log_det = op.forward(z)\n",
    "                log_det += delta_log_det\n",
    "\n",
    "        return z, log_det\n",
    "\n",
    "    def log_prob(self, x torch.Tensor) -> torch.Tensor:\n",
    "        # ====\n",
    "        # your code\n",
    "        # 1) make forward pass with right inverse flag\n",
    "        # 2) sum log_det with log of base distribution (log p(z))\n",
    "        # 3) we will get tensor of shape [batch_size, 3, H, W] - sum it over the the last 3 dimensions\n",
    "        \n",
    "        # ====\n",
    "\n",
    "    def loss(self, x: torch.Tensor) -> dict:\n",
    "        return {'nll_loss': -self.log_prob(x).mean()}\n",
    "\n",
    "    def sample(self, num_samples: int) -> np.ndarray:\n",
    "        # Look carefully at this piece of code (do not change)\n",
    "        z = self.prior.sample([num_samples, self.n_channels, *self.input_shape])\n",
    "        samples = self.forward(z, invert=True)[0]\n",
    "        samples = samples.cpu().detach().numpy()\n",
    "        samples = np.floor(np.clip(samples * self.nbins, 0.0, self.nbins - 1)) / (self.nbins - 1)\n",
    "        return samples"
   ]
  },
  {
   "cell_type": "markdown",
   "metadata": {
    "id": "SZ97NuW-QQTU"
   },
   "source": [
    "Let train this model :)\n",
    "\n",
    "In our case it took about 30-60 minutes to get appropriate samples."
   ]
  },
  {
   "cell_type": "code",
   "execution_count": null,
   "metadata": {
    "colab": {
     "base_uri": "https://localhost:8080/",
     "height": 318,
     "referenced_widgets": [
      "a265befe52a94ad480174381dc786d3c",
      "fe46ea36d248497ab6631515169015de",
      "426c75b62d2545038f95dabead0d1b49",
      "b1d86cf97d294257961becb9353bc6ba",
      "dd337d90797f4c79a3ccca58258d3cc6",
      "9f9248b3e3044f6c9e00879f8d5e0680",
      "07defec21df54a9c858f1c4c28f15b4f",
      "6ebb05f6e3a8437689ab6a57f990135e",
      "677d4f2571de42b29b7ce70651ab1865",
      "a500d817bc6440f6bffc0be4abe0db04",
      "efa22e17ffd94deb90194dea9ae27dcb"
     ]
    },
    "id": "aUN4N-GZSTxr",
    "outputId": "35b2be17-3c3c-4e11-8399-59b2f3c5fbb6"
   },
   "outputs": [],
   "source": [
    "# ====\n",
    "# your code\n",
    "# choose these parameters\n",
    "BATCH_SIZE = # any adequate value\n",
    "LR =         # <= 1e-3\n",
    "EPOCHS =     # <= 20\n",
    "N_FILTERS =  # < 128\n",
    "N_BLOCKS =   # < 8\n",
    "# ====\n",
    "\n",
    "loader_args = dict(batch_size=BATCH_SIZE, shuffle=True)\n",
    "train_loader = data.DataLoader(train_data, **loader_args)\n",
    "test_loader = data.DataLoader(test_data, **loader_args)\n",
    "\n",
    "# model\n",
    "model = RealNVP(input_shape=(28, 28), n_channels=1, n_filters=N_FILTERS, n_blocks=N_BLOCKS, nbins=2)\n",
    "\n",
    "# train\n",
    "train_losses, test_losses = train_model(\n",
    "    model, train_loader, test_loader, epochs=EPOCHS, lr=LR, loss_key='nll_loss', use_cuda=USE_CUDA, use_tqdm=True\n",
    ")\n",
    "plot_training_curves(train_losses, test_losses)"
   ]
  },
  {
   "cell_type": "code",
   "execution_count": null,
   "metadata": {
    "colab": {
     "base_uri": "https://localhost:8080/",
     "height": 375
    },
    "id": "qweQ-1NuxLP7",
    "outputId": "e67b7327-82af-4d37-cc4f-1682c77f9a8f"
   },
   "outputs": [],
   "source": [
    "samples = model.sample(100)\n",
    "show_samples(samples, 'MNIST samples')"
   ]
  },
  {
   "cell_type": "code",
   "execution_count": null,
   "metadata": {
    "id": "5igH1qJDx-tx"
   },
   "outputs": [],
   "source": []
  }
 ],
 "metadata": {
  "accelerator": "GPU",
  "colab": {
   "collapsed_sections": [],
   "name": "hw3_solutions.ipynb",
   "provenance": []
  },
  "kernelspec": {
   "display_name": "Python 3 (ipykernel)",
   "language": "python",
   "name": "python3"
  },
  "language_info": {
   "codemirror_mode": {
    "name": "ipython",
    "version": 3
   },
   "file_extension": ".py",
   "mimetype": "text/x-python",
   "name": "python",
   "nbconvert_exporter": "python",
   "pygments_lexer": "ipython3",
   "version": "3.9.7"
  },
  "widgets": {
   "application/vnd.jupyter.widget-state+json": {
    "07defec21df54a9c858f1c4c28f15b4f": {
     "model_module": "@jupyter-widgets/base",
     "model_module_version": "1.2.0",
     "model_name": "LayoutModel",
     "state": {
      "_model_module": "@jupyter-widgets/base",
      "_model_module_version": "1.2.0",
      "_model_name": "LayoutModel",
      "_view_count": null,
      "_view_module": "@jupyter-widgets/base",
      "_view_module_version": "1.2.0",
      "_view_name": "LayoutView",
      "align_content": null,
      "align_items": null,
      "align_self": null,
      "border": null,
      "bottom": null,
      "display": null,
      "flex": null,
      "flex_flow": null,
      "grid_area": null,
      "grid_auto_columns": null,
      "grid_auto_flow": null,
      "grid_auto_rows": null,
      "grid_column": null,
      "grid_gap": null,
      "grid_row": null,
      "grid_template_areas": null,
      "grid_template_columns": null,
      "grid_template_rows": null,
      "height": null,
      "justify_content": null,
      "justify_items": null,
      "left": null,
      "margin": null,
      "max_height": null,
      "max_width": null,
      "min_height": null,
      "min_width": null,
      "object_fit": null,
      "object_position": null,
      "order": null,
      "overflow": null,
      "overflow_x": null,
      "overflow_y": null,
      "padding": null,
      "right": null,
      "top": null,
      "visibility": null,
      "width": null
     }
    },
    "0ab1764e6a584c59b67a518679778838": {
     "model_module": "@jupyter-widgets/base",
     "model_module_version": "1.2.0",
     "model_name": "LayoutModel",
     "state": {
      "_model_module": "@jupyter-widgets/base",
      "_model_module_version": "1.2.0",
      "_model_name": "LayoutModel",
      "_view_count": null,
      "_view_module": "@jupyter-widgets/base",
      "_view_module_version": "1.2.0",
      "_view_name": "LayoutView",
      "align_content": null,
      "align_items": null,
      "align_self": null,
      "border": null,
      "bottom": null,
      "display": null,
      "flex": null,
      "flex_flow": null,
      "grid_area": null,
      "grid_auto_columns": null,
      "grid_auto_flow": null,
      "grid_auto_rows": null,
      "grid_column": null,
      "grid_gap": null,
      "grid_row": null,
      "grid_template_areas": null,
      "grid_template_columns": null,
      "grid_template_rows": null,
      "height": null,
      "justify_content": null,
      "justify_items": null,
      "left": null,
      "margin": null,
      "max_height": null,
      "max_width": null,
      "min_height": null,
      "min_width": null,
      "object_fit": null,
      "object_position": null,
      "order": null,
      "overflow": null,
      "overflow_x": null,
      "overflow_y": null,
      "padding": null,
      "right": null,
      "top": null,
      "visibility": null,
      "width": null
     }
    },
    "0dad45ecd7b245838c74f0342ff8b885": {
     "model_module": "@jupyter-widgets/base",
     "model_module_version": "1.2.0",
     "model_name": "LayoutModel",
     "state": {
      "_model_module": "@jupyter-widgets/base",
      "_model_module_version": "1.2.0",
      "_model_name": "LayoutModel",
      "_view_count": null,
      "_view_module": "@jupyter-widgets/base",
      "_view_module_version": "1.2.0",
      "_view_name": "LayoutView",
      "align_content": null,
      "align_items": null,
      "align_self": null,
      "border": null,
      "bottom": null,
      "display": null,
      "flex": null,
      "flex_flow": null,
      "grid_area": null,
      "grid_auto_columns": null,
      "grid_auto_flow": null,
      "grid_auto_rows": null,
      "grid_column": null,
      "grid_gap": null,
      "grid_row": null,
      "grid_template_areas": null,
      "grid_template_columns": null,
      "grid_template_rows": null,
      "height": null,
      "justify_content": null,
      "justify_items": null,
      "left": null,
      "margin": null,
      "max_height": null,
      "max_width": null,
      "min_height": null,
      "min_width": null,
      "object_fit": null,
      "object_position": null,
      "order": null,
      "overflow": null,
      "overflow_x": null,
      "overflow_y": null,
      "padding": null,
      "right": null,
      "top": null,
      "visibility": null,
      "width": null
     }
    },
    "39cd2a67b6e548cdb98dab4292124ba1": {
     "model_module": "@jupyter-widgets/controls",
     "model_module_version": "1.5.0",
     "model_name": "HBoxModel",
     "state": {
      "_dom_classes": [],
      "_model_module": "@jupyter-widgets/controls",
      "_model_module_version": "1.5.0",
      "_model_name": "HBoxModel",
      "_view_count": null,
      "_view_module": "@jupyter-widgets/controls",
      "_view_module_version": "1.5.0",
      "_view_name": "HBoxView",
      "box_style": "",
      "children": [
       "IPY_MODEL_97cd2aa9eeaf4010846500eaa41dc9df",
       "IPY_MODEL_3cfadf4d1fe14c148c5ef9eff8b28f9a",
       "IPY_MODEL_fc7b98e6ee034cb2bfd4a10ad92511f3"
      ],
      "layout": "IPY_MODEL_6bd9367921b0412281be2c4ef29ea2d7"
     }
    },
    "3cfadf4d1fe14c148c5ef9eff8b28f9a": {
     "model_module": "@jupyter-widgets/controls",
     "model_module_version": "1.5.0",
     "model_name": "FloatProgressModel",
     "state": {
      "_dom_classes": [],
      "_model_module": "@jupyter-widgets/controls",
      "_model_module_version": "1.5.0",
      "_model_name": "FloatProgressModel",
      "_view_count": null,
      "_view_module": "@jupyter-widgets/controls",
      "_view_module_version": "1.5.0",
      "_view_name": "ProgressView",
      "bar_style": "success",
      "description": "",
      "description_tooltip": null,
      "layout": "IPY_MODEL_92cebb45bb724ee5b7f98af8826f0d41",
      "max": 50,
      "min": 0,
      "orientation": "horizontal",
      "style": "IPY_MODEL_bc107ed0c85a478ba77efb262c93348b",
      "value": 50
     }
    },
    "3d345c7d73524ff9ac30f4f0f1d8b11c": {
     "model_module": "@jupyter-widgets/controls",
     "model_module_version": "1.5.0",
     "model_name": "DescriptionStyleModel",
     "state": {
      "_model_module": "@jupyter-widgets/controls",
      "_model_module_version": "1.5.0",
      "_model_name": "DescriptionStyleModel",
      "_view_count": null,
      "_view_module": "@jupyter-widgets/base",
      "_view_module_version": "1.2.0",
      "_view_name": "StyleView",
      "description_width": ""
     }
    },
    "426c75b62d2545038f95dabead0d1b49": {
     "model_module": "@jupyter-widgets/controls",
     "model_module_version": "1.5.0",
     "model_name": "HTMLModel",
     "state": {
      "_dom_classes": [],
      "_model_module": "@jupyter-widgets/controls",
      "_model_module_version": "1.5.0",
      "_model_name": "HTMLModel",
      "_view_count": null,
      "_view_module": "@jupyter-widgets/controls",
      "_view_module_version": "1.5.0",
      "_view_name": "HTMLView",
      "description": "",
      "description_tooltip": null,
      "layout": "IPY_MODEL_07defec21df54a9c858f1c4c28f15b4f",
      "placeholder": "​",
      "style": "IPY_MODEL_9f9248b3e3044f6c9e00879f8d5e0680",
      "value": "100%"
     }
    },
    "677d4f2571de42b29b7ce70651ab1865": {
     "model_module": "@jupyter-widgets/base",
     "model_module_version": "1.2.0",
     "model_name": "LayoutModel",
     "state": {
      "_model_module": "@jupyter-widgets/base",
      "_model_module_version": "1.2.0",
      "_model_name": "LayoutModel",
      "_view_count": null,
      "_view_module": "@jupyter-widgets/base",
      "_view_module_version": "1.2.0",
      "_view_name": "LayoutView",
      "align_content": null,
      "align_items": null,
      "align_self": null,
      "border": null,
      "bottom": null,
      "display": null,
      "flex": null,
      "flex_flow": null,
      "grid_area": null,
      "grid_auto_columns": null,
      "grid_auto_flow": null,
      "grid_auto_rows": null,
      "grid_column": null,
      "grid_gap": null,
      "grid_row": null,
      "grid_template_areas": null,
      "grid_template_columns": null,
      "grid_template_rows": null,
      "height": null,
      "justify_content": null,
      "justify_items": null,
      "left": null,
      "margin": null,
      "max_height": null,
      "max_width": null,
      "min_height": null,
      "min_width": null,
      "object_fit": null,
      "object_position": null,
      "order": null,
      "overflow": null,
      "overflow_x": null,
      "overflow_y": null,
      "padding": null,
      "right": null,
      "top": null,
      "visibility": null,
      "width": null
     }
    },
    "6bd9367921b0412281be2c4ef29ea2d7": {
     "model_module": "@jupyter-widgets/base",
     "model_module_version": "1.2.0",
     "model_name": "LayoutModel",
     "state": {
      "_model_module": "@jupyter-widgets/base",
      "_model_module_version": "1.2.0",
      "_model_name": "LayoutModel",
      "_view_count": null,
      "_view_module": "@jupyter-widgets/base",
      "_view_module_version": "1.2.0",
      "_view_name": "LayoutView",
      "align_content": null,
      "align_items": null,
      "align_self": null,
      "border": null,
      "bottom": null,
      "display": null,
      "flex": null,
      "flex_flow": null,
      "grid_area": null,
      "grid_auto_columns": null,
      "grid_auto_flow": null,
      "grid_auto_rows": null,
      "grid_column": null,
      "grid_gap": null,
      "grid_row": null,
      "grid_template_areas": null,
      "grid_template_columns": null,
      "grid_template_rows": null,
      "height": null,
      "justify_content": null,
      "justify_items": null,
      "left": null,
      "margin": null,
      "max_height": null,
      "max_width": null,
      "min_height": null,
      "min_width": null,
      "object_fit": null,
      "object_position": null,
      "order": null,
      "overflow": null,
      "overflow_x": null,
      "overflow_y": null,
      "padding": null,
      "right": null,
      "top": null,
      "visibility": null,
      "width": null
     }
    },
    "6ebb05f6e3a8437689ab6a57f990135e": {
     "model_module": "@jupyter-widgets/controls",
     "model_module_version": "1.5.0",
     "model_name": "ProgressStyleModel",
     "state": {
      "_model_module": "@jupyter-widgets/controls",
      "_model_module_version": "1.5.0",
      "_model_name": "ProgressStyleModel",
      "_view_count": null,
      "_view_module": "@jupyter-widgets/base",
      "_view_module_version": "1.2.0",
      "_view_name": "StyleView",
      "bar_color": null,
      "description_width": ""
     }
    },
    "92cebb45bb724ee5b7f98af8826f0d41": {
     "model_module": "@jupyter-widgets/base",
     "model_module_version": "1.2.0",
     "model_name": "LayoutModel",
     "state": {
      "_model_module": "@jupyter-widgets/base",
      "_model_module_version": "1.2.0",
      "_model_name": "LayoutModel",
      "_view_count": null,
      "_view_module": "@jupyter-widgets/base",
      "_view_module_version": "1.2.0",
      "_view_name": "LayoutView",
      "align_content": null,
      "align_items": null,
      "align_self": null,
      "border": null,
      "bottom": null,
      "display": null,
      "flex": null,
      "flex_flow": null,
      "grid_area": null,
      "grid_auto_columns": null,
      "grid_auto_flow": null,
      "grid_auto_rows": null,
      "grid_column": null,
      "grid_gap": null,
      "grid_row": null,
      "grid_template_areas": null,
      "grid_template_columns": null,
      "grid_template_rows": null,
      "height": null,
      "justify_content": null,
      "justify_items": null,
      "left": null,
      "margin": null,
      "max_height": null,
      "max_width": null,
      "min_height": null,
      "min_width": null,
      "object_fit": null,
      "object_position": null,
      "order": null,
      "overflow": null,
      "overflow_x": null,
      "overflow_y": null,
      "padding": null,
      "right": null,
      "top": null,
      "visibility": null,
      "width": null
     }
    },
    "97cd2aa9eeaf4010846500eaa41dc9df": {
     "model_module": "@jupyter-widgets/controls",
     "model_module_version": "1.5.0",
     "model_name": "HTMLModel",
     "state": {
      "_dom_classes": [],
      "_model_module": "@jupyter-widgets/controls",
      "_model_module_version": "1.5.0",
      "_model_name": "HTMLModel",
      "_view_count": null,
      "_view_module": "@jupyter-widgets/controls",
      "_view_module_version": "1.5.0",
      "_view_name": "HTMLView",
      "description": "",
      "description_tooltip": null,
      "layout": "IPY_MODEL_0dad45ecd7b245838c74f0342ff8b885",
      "placeholder": "​",
      "style": "IPY_MODEL_a4d1511e80ec4c3b8ebb14a52ad2099d",
      "value": "100%"
     }
    },
    "9f9248b3e3044f6c9e00879f8d5e0680": {
     "model_module": "@jupyter-widgets/controls",
     "model_module_version": "1.5.0",
     "model_name": "DescriptionStyleModel",
     "state": {
      "_model_module": "@jupyter-widgets/controls",
      "_model_module_version": "1.5.0",
      "_model_name": "DescriptionStyleModel",
      "_view_count": null,
      "_view_module": "@jupyter-widgets/base",
      "_view_module_version": "1.2.0",
      "_view_name": "StyleView",
      "description_width": ""
     }
    },
    "a265befe52a94ad480174381dc786d3c": {
     "model_module": "@jupyter-widgets/controls",
     "model_module_version": "1.5.0",
     "model_name": "HBoxModel",
     "state": {
      "_dom_classes": [],
      "_model_module": "@jupyter-widgets/controls",
      "_model_module_version": "1.5.0",
      "_model_name": "HBoxModel",
      "_view_count": null,
      "_view_module": "@jupyter-widgets/controls",
      "_view_module_version": "1.5.0",
      "_view_name": "HBoxView",
      "box_style": "",
      "children": [
       "IPY_MODEL_426c75b62d2545038f95dabead0d1b49",
       "IPY_MODEL_b1d86cf97d294257961becb9353bc6ba",
       "IPY_MODEL_dd337d90797f4c79a3ccca58258d3cc6"
      ],
      "layout": "IPY_MODEL_fe46ea36d248497ab6631515169015de"
     }
    },
    "a4d1511e80ec4c3b8ebb14a52ad2099d": {
     "model_module": "@jupyter-widgets/controls",
     "model_module_version": "1.5.0",
     "model_name": "DescriptionStyleModel",
     "state": {
      "_model_module": "@jupyter-widgets/controls",
      "_model_module_version": "1.5.0",
      "_model_name": "DescriptionStyleModel",
      "_view_count": null,
      "_view_module": "@jupyter-widgets/base",
      "_view_module_version": "1.2.0",
      "_view_name": "StyleView",
      "description_width": ""
     }
    },
    "a500d817bc6440f6bffc0be4abe0db04": {
     "model_module": "@jupyter-widgets/controls",
     "model_module_version": "1.5.0",
     "model_name": "DescriptionStyleModel",
     "state": {
      "_model_module": "@jupyter-widgets/controls",
      "_model_module_version": "1.5.0",
      "_model_name": "DescriptionStyleModel",
      "_view_count": null,
      "_view_module": "@jupyter-widgets/base",
      "_view_module_version": "1.2.0",
      "_view_name": "StyleView",
      "description_width": ""
     }
    },
    "b1d86cf97d294257961becb9353bc6ba": {
     "model_module": "@jupyter-widgets/controls",
     "model_module_version": "1.5.0",
     "model_name": "FloatProgressModel",
     "state": {
      "_dom_classes": [],
      "_model_module": "@jupyter-widgets/controls",
      "_model_module_version": "1.5.0",
      "_model_name": "FloatProgressModel",
      "_view_count": null,
      "_view_module": "@jupyter-widgets/controls",
      "_view_module_version": "1.5.0",
      "_view_name": "ProgressView",
      "bar_style": "success",
      "description": "",
      "description_tooltip": null,
      "layout": "IPY_MODEL_677d4f2571de42b29b7ce70651ab1865",
      "max": 3,
      "min": 0,
      "orientation": "horizontal",
      "style": "IPY_MODEL_6ebb05f6e3a8437689ab6a57f990135e",
      "value": 3
     }
    },
    "bc107ed0c85a478ba77efb262c93348b": {
     "model_module": "@jupyter-widgets/controls",
     "model_module_version": "1.5.0",
     "model_name": "ProgressStyleModel",
     "state": {
      "_model_module": "@jupyter-widgets/controls",
      "_model_module_version": "1.5.0",
      "_model_name": "ProgressStyleModel",
      "_view_count": null,
      "_view_module": "@jupyter-widgets/base",
      "_view_module_version": "1.2.0",
      "_view_name": "StyleView",
      "bar_color": null,
      "description_width": ""
     }
    },
    "dd337d90797f4c79a3ccca58258d3cc6": {
     "model_module": "@jupyter-widgets/controls",
     "model_module_version": "1.5.0",
     "model_name": "HTMLModel",
     "state": {
      "_dom_classes": [],
      "_model_module": "@jupyter-widgets/controls",
      "_model_module_version": "1.5.0",
      "_model_name": "HTMLModel",
      "_view_count": null,
      "_view_module": "@jupyter-widgets/controls",
      "_view_module_version": "1.5.0",
      "_view_name": "HTMLView",
      "description": "",
      "description_tooltip": null,
      "layout": "IPY_MODEL_efa22e17ffd94deb90194dea9ae27dcb",
      "placeholder": "​",
      "style": "IPY_MODEL_a500d817bc6440f6bffc0be4abe0db04",
      "value": " 3/3 [05:23&lt;00:00, 107.78s/it]"
     }
    },
    "efa22e17ffd94deb90194dea9ae27dcb": {
     "model_module": "@jupyter-widgets/base",
     "model_module_version": "1.2.0",
     "model_name": "LayoutModel",
     "state": {
      "_model_module": "@jupyter-widgets/base",
      "_model_module_version": "1.2.0",
      "_model_name": "LayoutModel",
      "_view_count": null,
      "_view_module": "@jupyter-widgets/base",
      "_view_module_version": "1.2.0",
      "_view_name": "LayoutView",
      "align_content": null,
      "align_items": null,
      "align_self": null,
      "border": null,
      "bottom": null,
      "display": null,
      "flex": null,
      "flex_flow": null,
      "grid_area": null,
      "grid_auto_columns": null,
      "grid_auto_flow": null,
      "grid_auto_rows": null,
      "grid_column": null,
      "grid_gap": null,
      "grid_row": null,
      "grid_template_areas": null,
      "grid_template_columns": null,
      "grid_template_rows": null,
      "height": null,
      "justify_content": null,
      "justify_items": null,
      "left": null,
      "margin": null,
      "max_height": null,
      "max_width": null,
      "min_height": null,
      "min_width": null,
      "object_fit": null,
      "object_position": null,
      "order": null,
      "overflow": null,
      "overflow_x": null,
      "overflow_y": null,
      "padding": null,
      "right": null,
      "top": null,
      "visibility": null,
      "width": null
     }
    },
    "fc7b98e6ee034cb2bfd4a10ad92511f3": {
     "model_module": "@jupyter-widgets/controls",
     "model_module_version": "1.5.0",
     "model_name": "HTMLModel",
     "state": {
      "_dom_classes": [],
      "_model_module": "@jupyter-widgets/controls",
      "_model_module_version": "1.5.0",
      "_model_name": "HTMLModel",
      "_view_count": null,
      "_view_module": "@jupyter-widgets/controls",
      "_view_module_version": "1.5.0",
      "_view_name": "HTMLView",
      "description": "",
      "description_tooltip": null,
      "layout": "IPY_MODEL_0ab1764e6a584c59b67a518679778838",
      "placeholder": "​",
      "style": "IPY_MODEL_3d345c7d73524ff9ac30f4f0f1d8b11c",
      "value": " 50/50 [00:15&lt;00:00,  3.33it/s]"
     }
    },
    "fe46ea36d248497ab6631515169015de": {
     "model_module": "@jupyter-widgets/base",
     "model_module_version": "1.2.0",
     "model_name": "LayoutModel",
     "state": {
      "_model_module": "@jupyter-widgets/base",
      "_model_module_version": "1.2.0",
      "_model_name": "LayoutModel",
      "_view_count": null,
      "_view_module": "@jupyter-widgets/base",
      "_view_module_version": "1.2.0",
      "_view_name": "LayoutView",
      "align_content": null,
      "align_items": null,
      "align_self": null,
      "border": null,
      "bottom": null,
      "display": null,
      "flex": null,
      "flex_flow": null,
      "grid_area": null,
      "grid_auto_columns": null,
      "grid_auto_flow": null,
      "grid_auto_rows": null,
      "grid_column": null,
      "grid_gap": null,
      "grid_row": null,
      "grid_template_areas": null,
      "grid_template_columns": null,
      "grid_template_rows": null,
      "height": null,
      "justify_content": null,
      "justify_items": null,
      "left": null,
      "margin": null,
      "max_height": null,
      "max_width": null,
      "min_height": null,
      "min_width": null,
      "object_fit": null,
      "object_position": null,
      "order": null,
      "overflow": null,
      "overflow_x": null,
      "overflow_y": null,
      "padding": null,
      "right": null,
      "top": null,
      "visibility": null,
      "width": null
     }
    }
   }
  }
 },
 "nbformat": 4,
 "nbformat_minor": 4
}
